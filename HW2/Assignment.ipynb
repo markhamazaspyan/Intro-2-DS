{
 "cells": [
  {
   "cell_type": "markdown",
   "metadata": {
    "id": "45fff5bc"
   },
   "source": [
    "### To complete this assignment, recreate the plots and outputs of functions exactly. "
   ]
  },
  {
   "cell_type": "markdown",
   "metadata": {
    "id": "80102da5"
   },
   "source": [
    "### Notice that some lines are missing code, but have the output still visible. In the line above recreate the function to generate the output below."
   ]
  },
  {
   "cell_type": "code",
   "execution_count": 1,
   "metadata": {
    "colab": {
     "base_uri": "https://localhost:8080/",
     "height": 426
    },
    "id": "269c1b57",
    "outputId": "ab1bbe72-0ab2-4a36-b895-6021e2b628c5"
   },
   "outputs": [
    {
     "name": "stderr",
     "output_type": "stream",
     "text": [
      "In /Library/Frameworks/Python.framework/Versions/3.7/lib/python3.7/site-packages/matplotlib/mpl-data/stylelib/_classic_test.mplstyle: \n",
      "The text.latex.preview rcparam was deprecated in Matplotlib 3.3 and will be removed two minor releases later.\n",
      "In /Library/Frameworks/Python.framework/Versions/3.7/lib/python3.7/site-packages/matplotlib/mpl-data/stylelib/_classic_test.mplstyle: \n",
      "The mathtext.fallback_to_cm rcparam was deprecated in Matplotlib 3.3 and will be removed two minor releases later.\n",
      "In /Library/Frameworks/Python.framework/Versions/3.7/lib/python3.7/site-packages/matplotlib/mpl-data/stylelib/_classic_test.mplstyle: Support for setting the 'mathtext.fallback_to_cm' rcParam is deprecated since 3.3 and will be removed two minor releases later; use 'mathtext.fallback : 'cm' instead.\n",
      "In /Library/Frameworks/Python.framework/Versions/3.7/lib/python3.7/site-packages/matplotlib/mpl-data/stylelib/_classic_test.mplstyle: \n",
      "The validate_bool_maybe_none function was deprecated in Matplotlib 3.3 and will be removed two minor releases later.\n",
      "In /Library/Frameworks/Python.framework/Versions/3.7/lib/python3.7/site-packages/matplotlib/mpl-data/stylelib/_classic_test.mplstyle: \n",
      "The savefig.jpeg_quality rcparam was deprecated in Matplotlib 3.3 and will be removed two minor releases later.\n",
      "In /Library/Frameworks/Python.framework/Versions/3.7/lib/python3.7/site-packages/matplotlib/mpl-data/stylelib/_classic_test.mplstyle: \n",
      "The keymap.all_axes rcparam was deprecated in Matplotlib 3.3 and will be removed two minor releases later.\n",
      "In /Library/Frameworks/Python.framework/Versions/3.7/lib/python3.7/site-packages/matplotlib/mpl-data/stylelib/_classic_test.mplstyle: \n",
      "The animation.avconv_path rcparam was deprecated in Matplotlib 3.3 and will be removed two minor releases later.\n",
      "In /Library/Frameworks/Python.framework/Versions/3.7/lib/python3.7/site-packages/matplotlib/mpl-data/stylelib/_classic_test.mplstyle: \n",
      "The animation.avconv_args rcparam was deprecated in Matplotlib 3.3 and will be removed two minor releases later.\n"
     ]
    },
    {
     "data": {
      "text/html": [
       "<div>\n",
       "<style scoped>\n",
       "    .dataframe tbody tr th:only-of-type {\n",
       "        vertical-align: middle;\n",
       "    }\n",
       "\n",
       "    .dataframe tbody tr th {\n",
       "        vertical-align: top;\n",
       "    }\n",
       "\n",
       "    .dataframe thead th {\n",
       "        text-align: right;\n",
       "    }\n",
       "</style>\n",
       "<table border=\"1\" class=\"dataframe\">\n",
       "  <thead>\n",
       "    <tr style=\"text-align: right;\">\n",
       "      <th></th>\n",
       "      <th>BPrev</th>\n",
       "      <th>BStreak</th>\n",
       "      <th>B_Age</th>\n",
       "      <th>B_Height</th>\n",
       "      <th>B_HomeTown</th>\n",
       "      <th>B_ID</th>\n",
       "      <th>B_Location</th>\n",
       "      <th>B_Name</th>\n",
       "      <th>B_Weight</th>\n",
       "      <th>B__Round1_Grappling_Reversals_Landed</th>\n",
       "      <th>...</th>\n",
       "      <th>R__Round5_TIP_Ground Time</th>\n",
       "      <th>R__Round5_TIP_Guard Control Time</th>\n",
       "      <th>R__Round5_TIP_Half Guard Control Time</th>\n",
       "      <th>R__Round5_TIP_Misc. Ground Control Time</th>\n",
       "      <th>R__Round5_TIP_Mount Control Time</th>\n",
       "      <th>R__Round5_TIP_Neutral Time</th>\n",
       "      <th>R__Round5_TIP_Side Control Time</th>\n",
       "      <th>R__Round5_TIP_Standing Time</th>\n",
       "      <th>winby</th>\n",
       "      <th>winner</th>\n",
       "    </tr>\n",
       "  </thead>\n",
       "  <tbody>\n",
       "    <tr>\n",
       "      <th>0</th>\n",
       "      <td>1</td>\n",
       "      <td>1</td>\n",
       "      <td>23.0</td>\n",
       "      <td>182.0</td>\n",
       "      <td>Trento Italy</td>\n",
       "      <td>2783</td>\n",
       "      <td>Mezzocorona Italy</td>\n",
       "      <td>Marvin Vettori</td>\n",
       "      <td>84</td>\n",
       "      <td>0.0</td>\n",
       "      <td>...</td>\n",
       "      <td>NaN</td>\n",
       "      <td>NaN</td>\n",
       "      <td>NaN</td>\n",
       "      <td>NaN</td>\n",
       "      <td>NaN</td>\n",
       "      <td>NaN</td>\n",
       "      <td>NaN</td>\n",
       "      <td>NaN</td>\n",
       "      <td>DEC</td>\n",
       "      <td>red</td>\n",
       "    </tr>\n",
       "    <tr>\n",
       "      <th>1</th>\n",
       "      <td>0</td>\n",
       "      <td>0</td>\n",
       "      <td>32.0</td>\n",
       "      <td>175.0</td>\n",
       "      <td>Careiro da Várzea, Amazonas Brazil</td>\n",
       "      <td>2208</td>\n",
       "      <td>Pharr, Texas USA</td>\n",
       "      <td>Carlos Diego Ferreira</td>\n",
       "      <td>70</td>\n",
       "      <td>NaN</td>\n",
       "      <td>...</td>\n",
       "      <td>NaN</td>\n",
       "      <td>NaN</td>\n",
       "      <td>NaN</td>\n",
       "      <td>NaN</td>\n",
       "      <td>NaN</td>\n",
       "      <td>NaN</td>\n",
       "      <td>NaN</td>\n",
       "      <td>NaN</td>\n",
       "      <td>SUB</td>\n",
       "      <td>blue</td>\n",
       "    </tr>\n",
       "    <tr>\n",
       "      <th>2</th>\n",
       "      <td>2</td>\n",
       "      <td>0</td>\n",
       "      <td>38.0</td>\n",
       "      <td>172.0</td>\n",
       "      <td>Kanagawa Japan</td>\n",
       "      <td>721</td>\n",
       "      <td>Tokyo Japan</td>\n",
       "      <td>Takanori Gomi</td>\n",
       "      <td>70</td>\n",
       "      <td>0.0</td>\n",
       "      <td>...</td>\n",
       "      <td>NaN</td>\n",
       "      <td>NaN</td>\n",
       "      <td>NaN</td>\n",
       "      <td>NaN</td>\n",
       "      <td>NaN</td>\n",
       "      <td>NaN</td>\n",
       "      <td>NaN</td>\n",
       "      <td>NaN</td>\n",
       "      <td>KO/TKO</td>\n",
       "      <td>red</td>\n",
       "    </tr>\n",
       "    <tr>\n",
       "      <th>3</th>\n",
       "      <td>0</td>\n",
       "      <td>0</td>\n",
       "      <td>23.0</td>\n",
       "      <td>170.0</td>\n",
       "      <td>Tijuana Mexico</td>\n",
       "      <td>2825</td>\n",
       "      <td>Tijuana Mexico</td>\n",
       "      <td>Brandon Moreno</td>\n",
       "      <td>56</td>\n",
       "      <td>NaN</td>\n",
       "      <td>...</td>\n",
       "      <td>NaN</td>\n",
       "      <td>NaN</td>\n",
       "      <td>NaN</td>\n",
       "      <td>NaN</td>\n",
       "      <td>NaN</td>\n",
       "      <td>NaN</td>\n",
       "      <td>NaN</td>\n",
       "      <td>NaN</td>\n",
       "      <td>SUB</td>\n",
       "      <td>blue</td>\n",
       "    </tr>\n",
       "    <tr>\n",
       "      <th>4</th>\n",
       "      <td>3</td>\n",
       "      <td>1</td>\n",
       "      <td>30.0</td>\n",
       "      <td>167.0</td>\n",
       "      <td>Spokane, WA USA</td>\n",
       "      <td>2260</td>\n",
       "      <td>Spokane, WA USA</td>\n",
       "      <td>Elizabeth Phillips</td>\n",
       "      <td>61</td>\n",
       "      <td>0.0</td>\n",
       "      <td>...</td>\n",
       "      <td>NaN</td>\n",
       "      <td>NaN</td>\n",
       "      <td>NaN</td>\n",
       "      <td>NaN</td>\n",
       "      <td>NaN</td>\n",
       "      <td>NaN</td>\n",
       "      <td>NaN</td>\n",
       "      <td>NaN</td>\n",
       "      <td>DEC</td>\n",
       "      <td>red</td>\n",
       "    </tr>\n",
       "  </tbody>\n",
       "</table>\n",
       "<p>5 rows × 895 columns</p>\n",
       "</div>"
      ],
      "text/plain": [
       "   BPrev  BStreak  B_Age  B_Height                          B_HomeTown  B_ID  \\\n",
       "0      1        1   23.0     182.0                        Trento Italy  2783   \n",
       "1      0        0   32.0     175.0  Careiro da Várzea, Amazonas Brazil  2208   \n",
       "2      2        0   38.0     172.0                      Kanagawa Japan   721   \n",
       "3      0        0   23.0     170.0                      Tijuana Mexico  2825   \n",
       "4      3        1   30.0     167.0                     Spokane, WA USA  2260   \n",
       "\n",
       "          B_Location                 B_Name  B_Weight  \\\n",
       "0  Mezzocorona Italy         Marvin Vettori        84   \n",
       "1   Pharr, Texas USA  Carlos Diego Ferreira        70   \n",
       "2        Tokyo Japan          Takanori Gomi        70   \n",
       "3     Tijuana Mexico         Brandon Moreno        56   \n",
       "4    Spokane, WA USA     Elizabeth Phillips        61   \n",
       "\n",
       "   B__Round1_Grappling_Reversals_Landed  ...  R__Round5_TIP_Ground Time  \\\n",
       "0                                   0.0  ...                        NaN   \n",
       "1                                   NaN  ...                        NaN   \n",
       "2                                   0.0  ...                        NaN   \n",
       "3                                   NaN  ...                        NaN   \n",
       "4                                   0.0  ...                        NaN   \n",
       "\n",
       "   R__Round5_TIP_Guard Control Time  R__Round5_TIP_Half Guard Control Time  \\\n",
       "0                               NaN                                    NaN   \n",
       "1                               NaN                                    NaN   \n",
       "2                               NaN                                    NaN   \n",
       "3                               NaN                                    NaN   \n",
       "4                               NaN                                    NaN   \n",
       "\n",
       "   R__Round5_TIP_Misc. Ground Control Time  R__Round5_TIP_Mount Control Time  \\\n",
       "0                                      NaN                               NaN   \n",
       "1                                      NaN                               NaN   \n",
       "2                                      NaN                               NaN   \n",
       "3                                      NaN                               NaN   \n",
       "4                                      NaN                               NaN   \n",
       "\n",
       "   R__Round5_TIP_Neutral Time  R__Round5_TIP_Side Control Time  \\\n",
       "0                         NaN                              NaN   \n",
       "1                         NaN                              NaN   \n",
       "2                         NaN                              NaN   \n",
       "3                         NaN                              NaN   \n",
       "4                         NaN                              NaN   \n",
       "\n",
       "   R__Round5_TIP_Standing Time   winby  winner  \n",
       "0                          NaN     DEC     red  \n",
       "1                          NaN     SUB    blue  \n",
       "2                          NaN  KO/TKO     red  \n",
       "3                          NaN     SUB    blue  \n",
       "4                          NaN     DEC     red  \n",
       "\n",
       "[5 rows x 895 columns]"
      ]
     },
     "execution_count": 1,
     "metadata": {},
     "output_type": "execute_result"
    }
   ],
   "source": [
    "import pandas as pd\n",
    "import numpy as np\n",
    "import matplotlib.pyplot as plt\n",
    "import seaborn as sns\n",
    "import warnings\n",
    "warnings.filterwarnings('ignore')\n",
    "\n",
    "\n",
    "df = pd.read_csv(\"data.csv\")\n",
    "df.head()"
   ]
  },
  {
   "cell_type": "code",
   "execution_count": 2,
   "metadata": {
    "id": "69d438a4"
   },
   "outputs": [],
   "source": [
    "# Here is the first one."
   ]
  },
  {
   "cell_type": "code",
   "execution_count": 3,
   "metadata": {},
   "outputs": [],
   "source": [
    "# EXPECTED"
   ]
  },
  {
   "cell_type": "code",
   "execution_count": 4,
   "metadata": {},
   "outputs": [
    {
     "data": {
      "text/html": [
       "<div>\n",
       "<style scoped>\n",
       "    .dataframe tbody tr th:only-of-type {\n",
       "        vertical-align: middle;\n",
       "    }\n",
       "\n",
       "    .dataframe tbody tr th {\n",
       "        vertical-align: top;\n",
       "    }\n",
       "\n",
       "    .dataframe thead th {\n",
       "        text-align: right;\n",
       "    }\n",
       "</style>\n",
       "<table border=\"1\" class=\"dataframe\">\n",
       "  <thead>\n",
       "    <tr style=\"text-align: right;\">\n",
       "      <th></th>\n",
       "      <th>BPrev</th>\n",
       "      <th>BStreak</th>\n",
       "      <th>B_Age</th>\n",
       "      <th>B_Height</th>\n",
       "      <th>B_ID</th>\n",
       "      <th>B_Weight</th>\n",
       "      <th>B__Round1_Grappling_Reversals_Landed</th>\n",
       "      <th>B__Round1_Grappling_Standups_Landed</th>\n",
       "      <th>B__Round1_Grappling_Submissions_Attempts</th>\n",
       "      <th>B__Round1_Grappling_Takedowns_Attempts</th>\n",
       "      <th>...</th>\n",
       "      <th>R__Round5_TIP_Distance Time</th>\n",
       "      <th>R__Round5_TIP_Ground Control Time</th>\n",
       "      <th>R__Round5_TIP_Ground Time</th>\n",
       "      <th>R__Round5_TIP_Guard Control Time</th>\n",
       "      <th>R__Round5_TIP_Half Guard Control Time</th>\n",
       "      <th>R__Round5_TIP_Misc. Ground Control Time</th>\n",
       "      <th>R__Round5_TIP_Mount Control Time</th>\n",
       "      <th>R__Round5_TIP_Neutral Time</th>\n",
       "      <th>R__Round5_TIP_Side Control Time</th>\n",
       "      <th>R__Round5_TIP_Standing Time</th>\n",
       "    </tr>\n",
       "  </thead>\n",
       "  <tbody>\n",
       "    <tr>\n",
       "      <th>count</th>\n",
       "      <td>1477.000000</td>\n",
       "      <td>1477.000000</td>\n",
       "      <td>1474.000000</td>\n",
       "      <td>1476.000000</td>\n",
       "      <td>1477.000000</td>\n",
       "      <td>1477.000000</td>\n",
       "      <td>978.000000</td>\n",
       "      <td>978.000000</td>\n",
       "      <td>978.000000</td>\n",
       "      <td>978.000000</td>\n",
       "      <td>...</td>\n",
       "      <td>144.000000</td>\n",
       "      <td>144.000000</td>\n",
       "      <td>144.000000</td>\n",
       "      <td>144.000000</td>\n",
       "      <td>144.000000</td>\n",
       "      <td>144.000000</td>\n",
       "      <td>144.000000</td>\n",
       "      <td>144.000000</td>\n",
       "      <td>144.000000</td>\n",
       "      <td>144.000000</td>\n",
       "    </tr>\n",
       "    <tr>\n",
       "      <th>mean</th>\n",
       "      <td>1.735274</td>\n",
       "      <td>0.654705</td>\n",
       "      <td>30.954545</td>\n",
       "      <td>177.451220</td>\n",
       "      <td>1964.633040</td>\n",
       "      <td>73.804333</td>\n",
       "      <td>0.036810</td>\n",
       "      <td>0.896728</td>\n",
       "      <td>0.431493</td>\n",
       "      <td>2.986708</td>\n",
       "      <td>...</td>\n",
       "      <td>211.965278</td>\n",
       "      <td>34.062500</td>\n",
       "      <td>66.604167</td>\n",
       "      <td>5.527778</td>\n",
       "      <td>4.319444</td>\n",
       "      <td>5.138889</td>\n",
       "      <td>12.097222</td>\n",
       "      <td>224.965278</td>\n",
       "      <td>4.562500</td>\n",
       "      <td>263.069444</td>\n",
       "    </tr>\n",
       "    <tr>\n",
       "      <th>std</th>\n",
       "      <td>1.895561</td>\n",
       "      <td>1.057269</td>\n",
       "      <td>4.020311</td>\n",
       "      <td>8.561541</td>\n",
       "      <td>666.949141</td>\n",
       "      <td>14.980531</td>\n",
       "      <td>0.193748</td>\n",
       "      <td>1.255722</td>\n",
       "      <td>0.830527</td>\n",
       "      <td>3.987291</td>\n",
       "      <td>...</td>\n",
       "      <td>139.412374</td>\n",
       "      <td>68.819742</td>\n",
       "      <td>94.574736</td>\n",
       "      <td>22.374419</td>\n",
       "      <td>12.854023</td>\n",
       "      <td>14.312013</td>\n",
       "      <td>36.429320</td>\n",
       "      <td>142.328509</td>\n",
       "      <td>19.698681</td>\n",
       "      <td>162.386212</td>\n",
       "    </tr>\n",
       "    <tr>\n",
       "      <th>min</th>\n",
       "      <td>0.000000</td>\n",
       "      <td>0.000000</td>\n",
       "      <td>20.000000</td>\n",
       "      <td>152.000000</td>\n",
       "      <td>129.000000</td>\n",
       "      <td>52.000000</td>\n",
       "      <td>0.000000</td>\n",
       "      <td>0.000000</td>\n",
       "      <td>0.000000</td>\n",
       "      <td>0.000000</td>\n",
       "      <td>...</td>\n",
       "      <td>0.000000</td>\n",
       "      <td>0.000000</td>\n",
       "      <td>0.000000</td>\n",
       "      <td>0.000000</td>\n",
       "      <td>0.000000</td>\n",
       "      <td>0.000000</td>\n",
       "      <td>0.000000</td>\n",
       "      <td>0.000000</td>\n",
       "      <td>0.000000</td>\n",
       "      <td>0.000000</td>\n",
       "    </tr>\n",
       "    <tr>\n",
       "      <th>25%</th>\n",
       "      <td>0.000000</td>\n",
       "      <td>0.000000</td>\n",
       "      <td>28.000000</td>\n",
       "      <td>172.000000</td>\n",
       "      <td>1755.000000</td>\n",
       "      <td>65.000000</td>\n",
       "      <td>0.000000</td>\n",
       "      <td>0.000000</td>\n",
       "      <td>0.000000</td>\n",
       "      <td>0.000000</td>\n",
       "      <td>...</td>\n",
       "      <td>110.000000</td>\n",
       "      <td>0.000000</td>\n",
       "      <td>2.000000</td>\n",
       "      <td>0.000000</td>\n",
       "      <td>0.000000</td>\n",
       "      <td>0.000000</td>\n",
       "      <td>0.000000</td>\n",
       "      <td>126.750000</td>\n",
       "      <td>0.000000</td>\n",
       "      <td>139.000000</td>\n",
       "    </tr>\n",
       "    <tr>\n",
       "      <th>50%</th>\n",
       "      <td>1.000000</td>\n",
       "      <td>0.000000</td>\n",
       "      <td>31.000000</td>\n",
       "      <td>177.000000</td>\n",
       "      <td>2156.000000</td>\n",
       "      <td>70.000000</td>\n",
       "      <td>0.000000</td>\n",
       "      <td>0.000000</td>\n",
       "      <td>0.000000</td>\n",
       "      <td>2.000000</td>\n",
       "      <td>...</td>\n",
       "      <td>214.000000</td>\n",
       "      <td>0.000000</td>\n",
       "      <td>9.500000</td>\n",
       "      <td>0.000000</td>\n",
       "      <td>0.000000</td>\n",
       "      <td>0.000000</td>\n",
       "      <td>0.000000</td>\n",
       "      <td>232.000000</td>\n",
       "      <td>0.000000</td>\n",
       "      <td>291.000000</td>\n",
       "    </tr>\n",
       "    <tr>\n",
       "      <th>75%</th>\n",
       "      <td>3.000000</td>\n",
       "      <td>1.000000</td>\n",
       "      <td>34.000000</td>\n",
       "      <td>182.000000</td>\n",
       "      <td>2337.000000</td>\n",
       "      <td>84.000000</td>\n",
       "      <td>0.000000</td>\n",
       "      <td>1.000000</td>\n",
       "      <td>1.000000</td>\n",
       "      <td>4.000000</td>\n",
       "      <td>...</td>\n",
       "      <td>294.500000</td>\n",
       "      <td>47.500000</td>\n",
       "      <td>109.000000</td>\n",
       "      <td>0.000000</td>\n",
       "      <td>0.000000</td>\n",
       "      <td>0.000000</td>\n",
       "      <td>2.000000</td>\n",
       "      <td>299.000000</td>\n",
       "      <td>0.000000</td>\n",
       "      <td>300.000000</td>\n",
       "    </tr>\n",
       "    <tr>\n",
       "      <th>max</th>\n",
       "      <td>11.000000</td>\n",
       "      <td>7.000000</td>\n",
       "      <td>46.000000</td>\n",
       "      <td>213.000000</td>\n",
       "      <td>2882.000000</td>\n",
       "      <td>120.000000</td>\n",
       "      <td>2.000000</td>\n",
       "      <td>9.000000</td>\n",
       "      <td>6.000000</td>\n",
       "      <td>33.000000</td>\n",
       "      <td>...</td>\n",
       "      <td>647.000000</td>\n",
       "      <td>496.000000</td>\n",
       "      <td>529.000000</td>\n",
       "      <td>144.000000</td>\n",
       "      <td>91.000000</td>\n",
       "      <td>62.000000</td>\n",
       "      <td>264.000000</td>\n",
       "      <td>659.000000</td>\n",
       "      <td>128.000000</td>\n",
       "      <td>841.000000</td>\n",
       "    </tr>\n",
       "  </tbody>\n",
       "</table>\n",
       "<p>8 rows × 886 columns</p>\n",
       "</div>"
      ],
      "text/plain": [
       "             BPrev      BStreak        B_Age     B_Height         B_ID  \\\n",
       "count  1477.000000  1477.000000  1474.000000  1476.000000  1477.000000   \n",
       "mean      1.735274     0.654705    30.954545   177.451220  1964.633040   \n",
       "std       1.895561     1.057269     4.020311     8.561541   666.949141   \n",
       "min       0.000000     0.000000    20.000000   152.000000   129.000000   \n",
       "25%       0.000000     0.000000    28.000000   172.000000  1755.000000   \n",
       "50%       1.000000     0.000000    31.000000   177.000000  2156.000000   \n",
       "75%       3.000000     1.000000    34.000000   182.000000  2337.000000   \n",
       "max      11.000000     7.000000    46.000000   213.000000  2882.000000   \n",
       "\n",
       "          B_Weight  B__Round1_Grappling_Reversals_Landed  \\\n",
       "count  1477.000000                            978.000000   \n",
       "mean     73.804333                              0.036810   \n",
       "std      14.980531                              0.193748   \n",
       "min      52.000000                              0.000000   \n",
       "25%      65.000000                              0.000000   \n",
       "50%      70.000000                              0.000000   \n",
       "75%      84.000000                              0.000000   \n",
       "max     120.000000                              2.000000   \n",
       "\n",
       "       B__Round1_Grappling_Standups_Landed  \\\n",
       "count                           978.000000   \n",
       "mean                              0.896728   \n",
       "std                               1.255722   \n",
       "min                               0.000000   \n",
       "25%                               0.000000   \n",
       "50%                               0.000000   \n",
       "75%                               1.000000   \n",
       "max                               9.000000   \n",
       "\n",
       "       B__Round1_Grappling_Submissions_Attempts  \\\n",
       "count                                978.000000   \n",
       "mean                                   0.431493   \n",
       "std                                    0.830527   \n",
       "min                                    0.000000   \n",
       "25%                                    0.000000   \n",
       "50%                                    0.000000   \n",
       "75%                                    1.000000   \n",
       "max                                    6.000000   \n",
       "\n",
       "       B__Round1_Grappling_Takedowns_Attempts  ...  \\\n",
       "count                              978.000000  ...   \n",
       "mean                                 2.986708  ...   \n",
       "std                                  3.987291  ...   \n",
       "min                                  0.000000  ...   \n",
       "25%                                  0.000000  ...   \n",
       "50%                                  2.000000  ...   \n",
       "75%                                  4.000000  ...   \n",
       "max                                 33.000000  ...   \n",
       "\n",
       "       R__Round5_TIP_Distance Time  R__Round5_TIP_Ground Control Time  \\\n",
       "count                   144.000000                         144.000000   \n",
       "mean                    211.965278                          34.062500   \n",
       "std                     139.412374                          68.819742   \n",
       "min                       0.000000                           0.000000   \n",
       "25%                     110.000000                           0.000000   \n",
       "50%                     214.000000                           0.000000   \n",
       "75%                     294.500000                          47.500000   \n",
       "max                     647.000000                         496.000000   \n",
       "\n",
       "       R__Round5_TIP_Ground Time  R__Round5_TIP_Guard Control Time  \\\n",
       "count                 144.000000                        144.000000   \n",
       "mean                   66.604167                          5.527778   \n",
       "std                    94.574736                         22.374419   \n",
       "min                     0.000000                          0.000000   \n",
       "25%                     2.000000                          0.000000   \n",
       "50%                     9.500000                          0.000000   \n",
       "75%                   109.000000                          0.000000   \n",
       "max                   529.000000                        144.000000   \n",
       "\n",
       "       R__Round5_TIP_Half Guard Control Time  \\\n",
       "count                             144.000000   \n",
       "mean                                4.319444   \n",
       "std                                12.854023   \n",
       "min                                 0.000000   \n",
       "25%                                 0.000000   \n",
       "50%                                 0.000000   \n",
       "75%                                 0.000000   \n",
       "max                                91.000000   \n",
       "\n",
       "       R__Round5_TIP_Misc. Ground Control Time  \\\n",
       "count                               144.000000   \n",
       "mean                                  5.138889   \n",
       "std                                  14.312013   \n",
       "min                                   0.000000   \n",
       "25%                                   0.000000   \n",
       "50%                                   0.000000   \n",
       "75%                                   0.000000   \n",
       "max                                  62.000000   \n",
       "\n",
       "       R__Round5_TIP_Mount Control Time  R__Round5_TIP_Neutral Time  \\\n",
       "count                        144.000000                  144.000000   \n",
       "mean                          12.097222                  224.965278   \n",
       "std                           36.429320                  142.328509   \n",
       "min                            0.000000                    0.000000   \n",
       "25%                            0.000000                  126.750000   \n",
       "50%                            0.000000                  232.000000   \n",
       "75%                            2.000000                  299.000000   \n",
       "max                          264.000000                  659.000000   \n",
       "\n",
       "       R__Round5_TIP_Side Control Time  R__Round5_TIP_Standing Time  \n",
       "count                       144.000000                   144.000000  \n",
       "mean                          4.562500                   263.069444  \n",
       "std                          19.698681                   162.386212  \n",
       "min                           0.000000                     0.000000  \n",
       "25%                           0.000000                   139.000000  \n",
       "50%                           0.000000                   291.000000  \n",
       "75%                           0.000000                   300.000000  \n",
       "max                         128.000000                   841.000000  \n",
       "\n",
       "[8 rows x 886 columns]"
      ]
     },
     "execution_count": 4,
     "metadata": {},
     "output_type": "execute_result"
    }
   ],
   "source": [
    "# ANSWER:\n",
    "df.describe()"
   ]
  },
  {
   "cell_type": "code",
   "execution_count": 5,
   "metadata": {
    "id": "6ee93029"
   },
   "outputs": [],
   "source": [
    "df['B_Age'] = df['B_Age'].fillna(np.mean(df['B_Age']))\n",
    "df['B_Height'] = df['B_Height'].fillna(np.mean(df['B_Height']))\n",
    "df['R_Age'] = df['R_Age'].fillna(np.mean(df['R_Age']))\n",
    "df['R_Height'] = df['R_Height'].fillna(np.mean(df['R_Height']))"
   ]
  },
  {
   "cell_type": "code",
   "execution_count": 6,
   "metadata": {
    "id": "84bebf36",
    "outputId": "e2b2b7d3-6fbd-4a98-9a2e-0cfef7ea8558"
   },
   "outputs": [],
   "source": [
    "# EXPECTED"
   ]
  },
  {
   "cell_type": "code",
   "execution_count": 7,
   "metadata": {},
   "outputs": [
    {
     "data": {
      "text/plain": [
       "<AxesSubplot:xlabel='R_Age', ylabel='Density'>"
      ]
     },
     "execution_count": 7,
     "metadata": {},
     "output_type": "execute_result"
    },
    {
     "data": {
      "image/png": "[encoded data removed]",
      "text/plain": [
       "<Figure size 1080x360 with 2 Axes>"
      ]
     },
     "metadata": {
      "needs_background": "light"
     },
     "output_type": "display_data"
    }
   ],
   "source": [
    "# ANSWER:\n",
    "plt.figure(figsize=(15,5))\n",
    "plt.subplot(1,2,1)\n",
    "plt.ylabel(\"Density\")\n",
    "sns.distplot(df[\"B_Age\"])\n",
    "plt.subplot(1,2,2)\n",
    "plt.ylabel(\"Density\")\n",
    "sns.distplot(df[\"R_Age\"])\n"
   ]
  },
  {
   "cell_type": "code",
   "execution_count": null,
   "metadata": {
    "id": "4e8a9b40"
   },
   "outputs": [],
   "source": []
  },
  {
   "cell_type": "code",
   "execution_count": 8,
   "metadata": {
    "id": "52f6d472",
    "outputId": "77e89270-517a-420b-aa19-5d6cffb585e5"
   },
   "outputs": [],
   "source": [
    "# Bonus \n",
    "# EXPECTED"
   ]
  },
  {
   "cell_type": "code",
   "execution_count": 9,
   "metadata": {},
   "outputs": [
    {
     "data": {
      "text/plain": [
       "B_Age\n",
       "30.0    164\n",
       "33.0    138\n",
       "29.0    134\n",
       "32.0    128\n",
       "27.0    120\n",
       "31.0    112\n",
       "28.0    106\n",
       "34.0    106\n",
       "26.0     72\n",
       "35.0     67\n",
       "Name: winner, dtype: int64"
      ]
     },
     "execution_count": 9,
     "metadata": {},
     "output_type": "execute_result"
    }
   ],
   "source": [
    "# ANSWER\n",
    "group_df = df.groupby([\"B_Age\"])[\"winner\"].count()\n",
    "group_df.sort_values(ascending=False).head(10)"
   ]
  },
  {
   "cell_type": "code",
   "execution_count": null,
   "metadata": {},
   "outputs": [],
   "source": []
  },
  {
   "cell_type": "code",
   "execution_count": 10,
   "metadata": {
    "id": "9a8c1868"
   },
   "outputs": [],
   "source": [
    "above35 =['above35' if i >= 35 else 'below35' for i in df.B_Age]\n",
    "df_B = pd.DataFrame({'B_Age':above35})\n",
    "df_R = pd.DataFrame({'R_Age':above35})"
   ]
  },
  {
   "cell_type": "code",
   "execution_count": null,
   "metadata": {
    "id": "7f5a1e1d"
   },
   "outputs": [],
   "source": []
  },
  {
   "cell_type": "code",
   "execution_count": 11,
   "metadata": {
    "id": "14914553",
    "outputId": "6a5506a6-95ba-4379-94e5-a1a74528e5c8"
   },
   "outputs": [],
   "source": [
    "# EXPECTED"
   ]
  },
  {
   "cell_type": "code",
   "execution_count": 12,
   "metadata": {},
   "outputs": [
    {
     "data": {
      "text/plain": [
       "Text(0, 0.5, 'Number of Red fighters')"
      ]
     },
     "execution_count": 12,
     "metadata": {},
     "output_type": "execute_result"
    },
    {
     "data": {
      "image/png": "[encoded data removed]",
      "text/plain": [
       "<Figure size 1080x360 with 2 Axes>"
      ]
     },
     "metadata": {
      "needs_background": "light"
     },
     "output_type": "display_data"
    }
   ],
   "source": [
    "# ANSWER:\n",
    "b_counts = df_B.value_counts().reset_index()\n",
    "r_counts = df_R.value_counts().reset_index()\n",
    "\n",
    "plt.figure(figsize=(15,5))\n",
    "plt.subplot(1,2,1)\n",
    "plt.bar(b_counts[\"B_Age\"], b_counts[0], color=[\"#1f77b4\",'#ff7f0e'])\n",
    "plt.xlabel(\"B_Age\")\n",
    "plt.ylabel(\"count\")\n",
    "\n",
    "plt.subplot(1,2,2)\n",
    "plt.title(\"Age of Red fighters\",fontdict={\"fontsize\":15, \"color\":\"red\"})\n",
    "plt.bar(r_counts[\"R_Age\"], r_counts[0], color=[\"#1f77b4\",'#ff7f0e'])\n",
    "plt.xlabel(\"R_Age\")\n",
    "plt.ylabel(\"Number of Red fighters\")"
   ]
  },
  {
   "cell_type": "code",
   "execution_count": null,
   "metadata": {
    "id": "2860e6fa",
    "outputId": "ea2e3969-ac04-465e-d3e0-666ffd2a9f61"
   },
   "outputs": [],
   "source": []
  },
  {
   "cell_type": "code",
   "execution_count": null,
   "metadata": {
    "id": "4b63ba5e",
    "outputId": "b806fe30-2611-4fa9-99b9-ac3db3125dd5"
   },
   "outputs": [],
   "source": []
  },
  {
   "cell_type": "code",
   "execution_count": null,
   "metadata": {
    "id": "4bd01303"
   },
   "outputs": [],
   "source": []
  },
  {
   "cell_type": "code",
   "execution_count": 13,
   "metadata": {
    "id": "0fb233d2",
    "outputId": "37fd7556-a83d-4a7a-a334-45c2fdc6e0ad"
   },
   "outputs": [],
   "source": [
    "# Bonus\n"
   ]
  },
  {
   "cell_type": "code",
   "execution_count": 14,
   "metadata": {
    "id": "2b721110",
    "outputId": "6e2e2d8d-e5f1-4e39-cb99-7dbf2da45ccd"
   },
   "outputs": [],
   "source": [
    "# Bonus \n",
    "# EXPECTED"
   ]
  },
  {
   "cell_type": "code",
   "execution_count": 15,
   "metadata": {},
   "outputs": [
    {
     "data": {
      "image/png": "[encoded data removed]",
      "text/plain": [
       "<Figure size 1008x504 with 1 Axes>"
      ]
     },
     "metadata": {
      "needs_background": "light"
     },
     "output_type": "display_data"
    }
   ],
   "source": [
    "# ANSWER:\n",
    "g1 = df.groupby(\"B_Weight\")[\"B__Round5_Grappling_Reversals_Landed\"].sum().reset_index()\n",
    "g2 = df.groupby(\"B_Weight\")[\"B__Round5_Grappling_Standups_Landed\"].sum().reset_index()\n",
    "g3 = df.groupby(\"B_Weight\")[\"B__Round5_Grappling_Takedowns_Landed\"].sum().reset_index()\n",
    "\n",
    "plt.figure(figsize=(14,7))\n",
    "plt.plot(g1.iloc[:,0], g1.iloc[:,1])\n",
    "plt.plot(g2.iloc[:,0], g2.iloc[:,1])\n",
    "plt.plot(g3.iloc[:,0], g3.iloc[:,1])\n",
    "plt.legend([\"B__Round5_Grappling_Reversals_Landed\",\"B__Round5_Grappling_Standups_Landed\",\"B__Round5_Grappling_Takedowns_Landed\"])\n",
    "plt.show()"
   ]
  },
  {
   "cell_type": "code",
   "execution_count": null,
   "metadata": {},
   "outputs": [],
   "source": []
  }
 ],
 "metadata": {
  "colab": {
   "name": "Assignment.ipynb",
   "provenance": []
  },
  "kernelspec": {
   "display_name": "Python 3",
   "language": "python",
   "name": "python3"
  },
  "language_info": {
   "codemirror_mode": {
    "name": "ipython",
    "version": 3
   },
   "file_extension": ".py",
   "mimetype": "text/x-python",
   "name": "python",
   "nbconvert_exporter": "python",
   "pygments_lexer": "ipython3",
   "version": "3.7.1"
  }
 },
 "nbformat": 4,
 "nbformat_minor": 5
}
